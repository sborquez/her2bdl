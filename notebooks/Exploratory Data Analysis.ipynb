{
 "cells": [
  {
   "cell_type": "markdown",
   "metadata": {},
   "source": [
    "<h1 align=\"center\"><a href=\"https://github.com/sborquez/her2bdl\"> Her2BDL</a> - Her2 Bayesian Deep Learning</h1>\n",
    "\n",
    "<br>\n",
    "<img src=\"images/header.png\" width=\"35%\"/>\n",
    "\n",
    "<h2 align=\"center\">Exploratory Data Analysis</h2>\n",
    "\n",
    "<center>\n",
    "<i> Notebook created by Sebastián Bórquez G. - <a href=\"mailto://sebstian.borquez@sansano.usm.cl\">sebastian.borquez@sansano.usm.cl</a> - utfsm - Agosto 2020.</i>\n",
    "</center>\n"
   ]
  },
  {
   "cell_type": "markdown",
   "metadata": {},
   "source": [
    "# Setup Notebook\n"
   ]
  },
  {
   "cell_type": "markdown",
   "metadata": {},
   "source": [
    "## (Option A) Colab Setup\n",
    "\n",
    "Connectar a tu `Google Drive` e instalar dependencias."
   ]
  },
  {
   "cell_type": "code",
   "execution_count": null,
   "metadata": {},
   "outputs": [],
   "source": [
    "from google.colab import drive\n",
    "drive.mount('/content/drive')"
   ]
  },
  {
   "cell_type": "code",
   "execution_count": null,
   "metadata": {},
   "outputs": [],
   "source": [
    "%cd \"/content/drive/<Path to Project>\"\n",
    "!ls"
   ]
  },
  {
   "cell_type": "markdown",
   "metadata": {},
   "source": [
    "## (Opción B) Local Setup\n",
    "\n",
    "Cambiarse al directorio raíz del proyecto."
   ]
  },
  {
   "cell_type": "code",
   "execution_count": 1,
   "metadata": {
    "tags": []
   },
   "outputs": [
    {
     "output_type": "stream",
     "name": "stdout",
     "text": "d:\\sebas\\Google Drive\\Projects\\her2bdl\n"
    }
   ],
   "source": [
    "%cd .."
   ]
  },
  {
   "cell_type": "markdown",
   "metadata": {},
   "source": [
    "## Importar Modulos"
   ]
  },
  {
   "cell_type": "code",
   "execution_count": 2,
   "metadata": {},
   "outputs": [],
   "source": [
    "# Her2BDL packege\n",
    "from her2bdl import *\n",
    "\n",
    "# Adhoc modules\n",
    "import numpy as np\n",
    "import pandas as pd\n",
    "import matplotlib.pyplot as plt\n",
    "from tqdm.notebook import tqdm\n",
    "from IPython.core.display import display, HTML"
   ]
  },
  {
   "cell_type": "markdown",
   "metadata": {},
   "source": [
    "# Exploratory Data Analysis\n",
    "\n",
    "Descripción y exploración del datasets, distribución de clases y ejemplos.\n"
   ]
  },
  {
   "cell_type": "markdown",
   "metadata": {},
   "source": [
    "## Warwick Her2 Scoring contest\n",
    "\n",
    "### Descripción\n",
    "\n",
    "WSIs are generally high resolution gigapixel images obtained by scanning the conventional glass slides. They are normally stored in pyramid structures containing several levels, each level has a different resolution. For visualization, the region-of-interest (ROI) from these images require specially designed libraries or tools. OpenSlide is one of the commonly used libraries that provides a simple interface to read WSIs.\n",
    "\n",
    "### Fuente\n",
    "\n",
    "- https://warwick.ac.uk/fac/sci/dcs/research/tia/her2contest/download/\n",
    "\n",
    "- Qaiser, Talha, et al. \"Her 2 challenge contest: a detailed assessment of automated her 2 scoring algorithms in whole slide images of breast cancer tissues.\" Histopathology 72.2 (2018): 227-238.\n",
    "https://onlinelibrary.wiley.com/doi/epdf/10.1111/his.13333\n",
    "\n",
    "- T. Qaiser, N.M. Rajpoot, \"Learning Where to See: A Novel Attention Model for Automated Immunohistochemical Scoring\", in IEEE Transactions on Medical Imaging, 2019. DOI: 10.1109/TMI.2019.2907049\n",
    "https://ieeexplore.ieee.org/document/8672928\n",
    "\n",
    "\n",
    "### The Training Dataset\n",
    "\n",
    "The training dataset consists of 52 WSIs with equally distributed cases for all 4 possible stages of HER2 scoring (0/ 1+/2+/3+).\n",
    "\n",
    "The ground truth data for WSIs is provided in a spreadsheet containing the case number, HER2 score and percentage cells with complete membrane staining irrespective of intensity respectively."
   ]
  },
  {
   "cell_type": "code",
   "execution_count": 3,
   "metadata": {
    "tags": []
   },
   "outputs": [
    {
     "output_type": "stream",
     "name": "stdout",
     "text": "Dataset Info:\n  size: 52\n  columns: Index(['CaseNo', 'HeR2 SCORE', 'source', 'image_her2', 'image_he'], dtype='object')\n  by class:\n    Score 3: 13\n    Score 2: 13\n    Score 1: 13\n    Score 0: 13\n"
    },
    {
     "output_type": "execute_result",
     "data": {
      "text/plain": "    CaseNo  HeR2 SCORE                             source    image_her2  \\\n2        6           2  E:/datasets/medical/warwick/train  06_Her2.ndpi   \n14      25           2  E:/datasets/medical/warwick/train  25_Her2.ndpi   \n12      22           3  E:/datasets/medical/warwick/train  22_Her2.ndpi   \n46      82           3  E:/datasets/medical/warwick/train  82_Her2.ndpi   \n39      66           0  E:/datasets/medical/warwick/train  66_Her2.ndpi   \n\n      image_he  \n2   06_HE.ndpi  \n14  25_HE.ndpi  \n12  22_HE.ndpi  \n46  82_HE.ndpi  \n39  66_HE.ndpi  ",
      "text/html": "<div>\n<style scoped>\n    .dataframe tbody tr th:only-of-type {\n        vertical-align: middle;\n    }\n\n    .dataframe tbody tr th {\n        vertical-align: top;\n    }\n\n    .dataframe thead th {\n        text-align: right;\n    }\n</style>\n<table border=\"1\" class=\"dataframe\">\n  <thead>\n    <tr style=\"text-align: right;\">\n      <th></th>\n      <th>CaseNo</th>\n      <th>HeR2 SCORE</th>\n      <th>source</th>\n      <th>image_her2</th>\n      <th>image_he</th>\n    </tr>\n  </thead>\n  <tbody>\n    <tr>\n      <th>2</th>\n      <td>6</td>\n      <td>2</td>\n      <td>E:/datasets/medical/warwick/train</td>\n      <td>06_Her2.ndpi</td>\n      <td>06_HE.ndpi</td>\n    </tr>\n    <tr>\n      <th>14</th>\n      <td>25</td>\n      <td>2</td>\n      <td>E:/datasets/medical/warwick/train</td>\n      <td>25_Her2.ndpi</td>\n      <td>25_HE.ndpi</td>\n    </tr>\n    <tr>\n      <th>12</th>\n      <td>22</td>\n      <td>3</td>\n      <td>E:/datasets/medical/warwick/train</td>\n      <td>22_Her2.ndpi</td>\n      <td>22_HE.ndpi</td>\n    </tr>\n    <tr>\n      <th>46</th>\n      <td>82</td>\n      <td>3</td>\n      <td>E:/datasets/medical/warwick/train</td>\n      <td>82_Her2.ndpi</td>\n      <td>82_HE.ndpi</td>\n    </tr>\n    <tr>\n      <th>39</th>\n      <td>66</td>\n      <td>0</td>\n      <td>E:/datasets/medical/warwick/train</td>\n      <td>66_Her2.ndpi</td>\n      <td>66_HE.ndpi</td>\n    </tr>\n  </tbody>\n</table>\n</div>"
     },
     "metadata": {},
     "execution_count": 3
    }
   ],
   "source": [
    "source = 'E:/datasets/medical/warwick/train'\n",
    "\n",
    "train_dataset = get_dataset(source, include_ground_truth=True)\n",
    "describe_dataset(train_dataset)\n",
    "train_dataset.sample(5)"
   ]
  },
  {
   "cell_type": "markdown",
   "metadata": {},
   "source": [
    "### The Testing Dataset\n",
    "\n",
    "The testing dataset contains 28 whole-slide-images (WSIs)"
   ]
  },
  {
   "cell_type": "code",
   "execution_count": 7,
   "metadata": {
    "tags": []
   },
   "outputs": [
    {
     "output_type": "stream",
     "name": "stdout",
     "text": "Dataset Info:\n  size: 2\n"
    },
    {
     "output_type": "execute_result",
     "data": {
      "text/plain": "                             source  CaseNo    image_her2    image_he  \\\n1  E:/datasets/medical/warwick/test       3  03_Her2.ndpi  03_HE.ndpi   \n\n  HeR2 SCORE  \n1       None  ",
      "text/html": "<div>\n<style scoped>\n    .dataframe tbody tr th:only-of-type {\n        vertical-align: middle;\n    }\n\n    .dataframe tbody tr th {\n        vertical-align: top;\n    }\n\n    .dataframe thead th {\n        text-align: right;\n    }\n</style>\n<table border=\"1\" class=\"dataframe\">\n  <thead>\n    <tr style=\"text-align: right;\">\n      <th></th>\n      <th>source</th>\n      <th>CaseNo</th>\n      <th>image_her2</th>\n      <th>image_he</th>\n      <th>HeR2 SCORE</th>\n    </tr>\n  </thead>\n  <tbody>\n    <tr>\n      <th>1</th>\n      <td>E:/datasets/medical/warwick/test</td>\n      <td>3</td>\n      <td>03_Her2.ndpi</td>\n      <td>03_HE.ndpi</td>\n      <td>None</td>\n    </tr>\n  </tbody>\n</table>\n</div>"
     },
     "metadata": {},
     "execution_count": 7
    }
   ],
   "source": [
    "source = 'E:/datasets/medical/warwick/test'\n",
    "\n",
    "test_dataset = get_dataset(source, include_ground_truth=False)\n",
    "describe_dataset(test_dataset, include_targets=False)\n",
    "test_dataset.sample(1)"
   ]
  },
  {
   "cell_type": "markdown",
   "metadata": {},
   "source": [
    "## Preparación del Dataset\n",
    "\n",
    "El train set se divide en `train/validation/test` con una razón de 80%, 10% y 10% respectivamente.\n",
    "La división de un dataset debe mantener el balance de clases. "
   ]
  },
  {
   "cell_type": "code",
   "execution_count": 10,
   "metadata": {
    "tags": []
   },
   "outputs": [
    {
     "output_type": "stream",
     "name": "stdout",
     "text": "train split\nDataset Info:\n  size: 36\n  columns: Index(['CaseNo', 'HeR2 SCORE', 'source', 'image_her2', 'image_he'], dtype='object')\n  by class:\n    Score 3: 9\n    Score 2: 9\n    Score 1: 9\n    Score 0: 9\n\nvalidation split\nDataset Info:\n  size: 8\n  columns: Index(['CaseNo', 'HeR2 SCORE', 'source', 'image_her2', 'image_he'], dtype='object')\n  by class:\n    Score 3: 2\n    Score 2: 2\n    Score 1: 2\n    Score 0: 2\n\ntest split\nDataset Info:\n  size: 8\n  columns: Index(['CaseNo', 'HeR2 SCORE', 'source', 'image_her2', 'image_he'], dtype='object')\n  by class:\n    Score 3: 2\n    Score 2: 2\n    Score 1: 2\n    Score 0: 2\n"
    },
    {
     "output_type": "execute_result",
     "data": {
      "text/plain": "'./train/datasets\\\\test.csv'"
     },
     "metadata": {},
     "execution_count": 10
    }
   ],
   "source": [
    "source = 'E:/datasets/medical/warwick/train'\n",
    "# 1. Get Dataset from source\n",
    "dataset = get_dataset(source, include_ground_truth=True)\n",
    "    \n",
    "# 2. Split train/validation/test\n",
    "train, val, test = split_dataset(dataset, validation_ratio=0.1, test_ratio=0.1, seed=42)\n",
    "\n",
    "# 3. Save\n",
    "print('train split')\n",
    "describe_dataset(train)\n",
    "save_dataset(train, \"./train/datasets\", \"train\")\n",
    "\n",
    "print()\n",
    "print('validation split')\n",
    "describe_dataset(val)\n",
    "save_dataset(val, \"./train/datasets\", \"validation\")\n",
    "\n",
    "print()\n",
    "print('test split')\n",
    "describe_dataset(test)\n",
    "save_dataset(test, \"./train/datasets\", \"test\");"
   ]
  },
  {
   "cell_type": "markdown",
   "metadata": {},
   "source": [
    "## Visualizaciones "
   ]
  },
  {
   "cell_type": "code",
   "execution_count": 11,
   "metadata": {},
   "outputs": [],
   "source": [
    "train = load_dataset(\"./train/datasets/train.csv\")\n",
    "val = load_dataset(\"./train/datasets/validation.csv\")\n",
    "test = load_dataset(\"./train/datasets/test.csv\")"
   ]
  },
  {
   "cell_type": "markdown",
   "metadata": {},
   "source": [
    "### Clases balanceadas"
   ]
  },
  {
   "cell_type": "code",
   "execution_count": null,
   "metadata": {},
   "outputs": [],
   "source": [
    "display_class_distribution(train, dataset_name=\"Training\")\n",
    "display_class_distribution(val, dataset_name=\"Validation\")\n",
    "display_class_distribution(test, dataset_name=\"Testing\")"
   ]
  },
  {
   "cell_type": "markdown",
   "metadata": {},
   "source": [
    "## WSI: Imágenes de ejemplo"
   ]
  },
  {
   "cell_type": "code",
   "execution_count": null,
   "metadata": {},
   "outputs": [],
   "source": []
  }
 ],
 "metadata": {
  "kernelspec": {
   "display_name": "Python 3",
   "language": "python",
   "name": "python3"
  },
  "language_info": {
   "codemirror_mode": {
    "name": "ipython",
    "version": 3
   },
   "file_extension": ".py",
   "mimetype": "text/x-python",
   "name": "python",
   "nbconvert_exporter": "python",
   "pygments_lexer": "ipython3",
   "version": "3.7.7-final"
  }
 },
 "nbformat": 4,
 "nbformat_minor": 4
}