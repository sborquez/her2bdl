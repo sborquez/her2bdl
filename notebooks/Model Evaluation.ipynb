{
 "cells": [
  {
   "cell_type": "markdown",
   "metadata": {},
   "source": [
    "<h1 align=\"center\"><a href=\"https://github.com/sborquez/her2bdl\"> Her2BDL</a> - Her2 Bayesian Deep Learning</h1>\n",
    "\n",
    "\n",
    "<br>\n",
    "<center>\n",
    "<img src=\"images/utfsm.png\" width=\"50%\", align=\"center\"/>\n",
    "</center>\n",
    "<h2 align=\"center\">Model Evaluation</h2>\n",
    "\n",
    "<center>\n",
    "<i> Notebook created by Sebastián Bórquez G. - <a href=\"mailto://sebstian.borquez.g@gmail.com\">sebastian.borquez.g@gmail.com</a> - utfsm - October 2020.</i>\n",
    "</center>\n"
   ]
  },
  {
   "cell_type": "markdown",
   "metadata": {},
   "source": [
    "# Setup Notebook\n",
    "\n",
    "The first step is to sync this notebook with Google Drive, and change directory to gerumo repository."
   ]
  },
  {
   "cell_type": "markdown",
   "metadata": {},
   "source": [
    "## (Option A) Colab Setup\n",
    "\n",
    "Connecto to your `Google Drive` and install some dependencies."
   ]
  },
  {
   "cell_type": "code",
   "execution_count": null,
   "metadata": {},
   "outputs": [],
   "source": [
    "!pip list"
   ]
  },
  {
   "cell_type": "code",
   "execution_count": null,
   "metadata": {},
   "outputs": [],
   "source": [
    "from google.colab import drive\n",
    "drive.mount('/content/drive')"
   ]
  },
  {
   "cell_type": "code",
   "execution_count": null,
   "metadata": {},
   "outputs": [],
   "source": [
    "%cd \"/content/drive/<Path to Project>\"\n",
    "!ls"
   ]
  },
  {
   "cell_type": "markdown",
   "metadata": {},
   "source": [
    "## (Option B) Local Setup\n",
    "\n",
    "Change working directory to project root."
   ]
  },
  {
   "cell_type": "code",
   "execution_count": null,
   "metadata": {},
   "outputs": [],
   "source": [
    "%cd .."
   ]
  },
  {
   "cell_type": "markdown",
   "metadata": {},
   "source": [
    "## Import Modules"
   ]
  },
  {
   "cell_type": "code",
   "execution_count": null,
   "metadata": {},
   "outputs": [],
   "source": [
    "import os\n",
    "os.environ['TF_FORCE_GPU_ALLOW_GROWTH'] = 'true'\n",
    "os.environ['CUDA_DISABLE_PTX_JIT'] = \"1\"\n",
    "\n",
    "# her2bdl packege\n",
    "from her2bdl import *\n",
    "\n",
    "# Adhoc modules\n",
    "import numpy as np\n",
    "import pandas as pd\n",
    "import matplotlib.pyplot as plt\n",
    "from tqdm.notebook import tqdm\n",
    "from pathlib import Path\n",
    "from IPython.core.display import display, HTML"
   ]
  },
  {
   "cell_type": "code",
   "execution_count": null,
   "metadata": {},
   "outputs": [],
   "source": [
    "import os\n",
    "os.environ[\"WANDB_MODE\"] = 'dryrun'"
   ]
  },
  {
   "cell_type": "markdown",
   "metadata": {},
   "source": [
    "# Model Evaluation\n",
    "\n",
    "Load and predict with your trained models. Evaluate and plot some metrics."
   ]
  },
  {
   "cell_type": "code",
   "execution_count": null,
   "metadata": {},
   "outputs": [],
   "source": [
    "experiments = Path(\"/home/asuka/projects/her2bdl/train/experiments/config\")\n",
    "\n",
    "# Binary\n",
    "config_file = experiments / \"binary_classification_evaluation/efficientnet_b0_binary_classifier.yaml\"\n",
    "\n",
    "# HER2\n",
    "#config_file = experiments / \"baseline_evaluation/hdxconv_c876_d02_mixture.yaml\""
   ]
  },
  {
   "cell_type": "code",
   "execution_count": null,
   "metadata": {},
   "outputs": [],
   "source": [
    "config = load_config_file(config_file)\n",
    "run_dir = setup_experiment(config, mode=\"evaluation\")\n",
    "\n",
    "# Experiment paths and indentifiers\n",
    "experiments_folder = config[\"experiment\"][\"experiments_folder\"]\n",
    "experiment_name    = config[\"experiment\"][\"name\"]\n",
    "experiment_folder  = Path(experiments_folder) / experiment_name\n",
    "run_id             = config[\"experiment\"][\"run_id\"]\n",
    "\n",
    "# Evaluation parameters\n",
    "batch_size  = config[\"evaluation\"][\"batch_size\"]\n",
    "evaluate_classification = config[\"evaluation\"][\"evaluate_classification\"]\n",
    "evaluate_aleatoric_uncertainty = config[\"evaluation\"][\"evaluate_aleatoric_uncertainty\"]\n",
    "evaluate_aggregation = config[\"evaluation\"][\"evaluate_aggregation\"]\n",
    "# Dataset\n",
    "data_configuration = config[\"data\"]\n",
    "test_, input_shape, num_classes, labels = setup_generators(\n",
    "    batch_size=batch_size, test_dataset=True,  **data_configuration\n",
    ")\n",
    "(test_dataset, steps_per_epoch) = test_\n",
    "# Model architecture\n",
    "model_configuration = config[\"model\"]\n",
    "model = setup_model(input_shape, num_classes, **model_configuration)"
   ]
  },
  {
   "cell_type": "code",
   "execution_count": null,
   "metadata": {},
   "outputs": [],
   "source": [
    "# Evaluation Logguer\n",
    "logger_configuration = config[\"evaluation\"][\"experiment_logger\"]\n",
    "logger = setup_evaluation_logger(\n",
    "    model_name=experiment_name,\n",
    "    labels=labels,\n",
    "    run_dir=run_dir,\n",
    "    **logger_configuration\n",
    ")"
   ]
  },
  {
   "cell_type": "markdown",
   "metadata": {},
   "source": [
    "## Evaluate Classification"
   ]
  },
  {
   "cell_type": "code",
   "execution_count": null,
   "metadata": {},
   "outputs": [],
   "source": [
    "logger_configuration['classification_metrics']"
   ]
  },
  {
   "cell_type": "code",
   "execution_count": null,
   "metadata": {},
   "outputs": [],
   "source": [
    "results = model.predict_with_epistemic_uncertainty(test_dataset, include_data=True)\n",
    "data, predictions_results, uncertainty_results = results"
   ]
  },
  {
   "cell_type": "code",
   "execution_count": null,
   "metadata": {},
   "outputs": [],
   "source": [
    "logger.log_classification_metrics(data, predictions_results, uncertainty_results)"
   ]
  },
  {
   "cell_type": "markdown",
   "metadata": {},
   "source": [
    "## Evaluate Aleatoric Model"
   ]
  },
  {
   "cell_type": "code",
   "execution_count": null,
   "metadata": {},
   "outputs": [],
   "source": [
    "logger_configuration['aleatoric_uncertainty']"
   ]
  },
  {
   "cell_type": "code",
   "execution_count": null,
   "metadata": {},
   "outputs": [],
   "source": [
    "aleatoric_model = model.get_aleatoric_model()\n",
    "results_aleatoric = aleatoric_model.predict_with_aleatoric_uncertainty(test_dataset, include_data=True)\n",
    "aleatoric_data, aleatoric_predictions_results, aleatoric_uncertainty_results = results_aleatoric"
   ]
  },
  {
   "cell_type": "code",
   "execution_count": null,
   "metadata": {},
   "outputs": [],
   "source": [
    "logger.log_aleatoric_uncertainty(aleatoric_data, aleatoric_predictions_results, aleatoric_uncertainty_results)"
   ]
  },
  {
   "cell_type": "markdown",
   "metadata": {},
   "source": [
    "## Evaluate Aggregation "
   ]
  },
  {
   "cell_type": "code",
   "execution_count": null,
   "metadata": {},
   "outputs": [],
   "source": []
  },
  {
   "cell_type": "code",
   "execution_count": null,
   "metadata": {},
   "outputs": [],
   "source": []
  },
  {
   "cell_type": "code",
   "execution_count": null,
   "metadata": {},
   "outputs": [],
   "source": []
  },
  {
   "cell_type": "code",
   "execution_count": null,
   "metadata": {},
   "outputs": [],
   "source": []
  },
  {
   "cell_type": "code",
   "execution_count": null,
   "metadata": {},
   "outputs": [],
   "source": []
  },
  {
   "cell_type": "code",
   "execution_count": null,
   "metadata": {},
   "outputs": [],
   "source": [
    "import wandb\n",
    "wandb.finish()\n",
    "os.environ[\"WANDB_MODE\"] = \"\""
   ]
  }
 ],
 "metadata": {
  "kernelspec": {
   "display_name": "Python 3",
   "language": "python",
   "name": "python3"
  },
  "language_info": {
   "codemirror_mode": {
    "name": "ipython",
    "version": 3
   },
   "file_extension": ".py",
   "mimetype": "text/x-python",
   "name": "python",
   "nbconvert_exporter": "python",
   "pygments_lexer": "ipython3",
   "version": "3.8.8"
  }
 },
 "nbformat": 4,
 "nbformat_minor": 4
}