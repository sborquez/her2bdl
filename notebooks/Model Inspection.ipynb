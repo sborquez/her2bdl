{
 "cells": [
  {
   "cell_type": "markdown",
   "metadata": {},
   "source": [
    "<h1 align=\"center\"><a href=\"https://github.com/sborquez/her2bdl\"> Her2BDL</a> - Her2 Bayesian Deep Learning</h1>\n",
    "\n",
    "\n",
    "<br>\n",
    "<center>\n",
    "<img src=\"images/utfsm.png\" width=\"50%\", align=\"center\"/>\n",
    "</center>\n",
    "<h2 align=\"center\">Model Inspection</h2>\n",
    "\n",
    "<center>\n",
    "<i> Notebook created by Sebastián Bórquez G. - <a href=\"mailto://sebstian.borquez.g@gmail.com\">sebastian.borquez.g@gmail.com</a> - utfsm - August 2020.</i>\n",
    "</center>\n"
   ]
  },
  {
   "cell_type": "markdown",
   "metadata": {},
   "source": [
    "# Setup Notebook\n",
    "\n",
    "The first step is to sync this notebook with Google Drive, and change directory to gerumo repository."
   ]
  },
  {
   "cell_type": "code",
   "execution_count": 1,
   "metadata": {},
   "outputs": [],
   "source": [
    "#!export HER2BDL_HOME=\"/home/sborquez/projects/her2bdl\"\n",
    "#!export HER2BDL_DATASETS=\"/home/sborquez/projects/her2bdl/datasets\"\n",
    "#!export HER2BDL_EXPERIMENTS=\"/home/sborquez/projects/her2bdl/experiments\"\n",
    "#!export HER2BDL_EXTRAS=\"/home/sborquez/projects/her2bdl-files\""
   ]
  },
  {
   "cell_type": "code",
   "execution_count": 2,
   "metadata": {},
   "outputs": [
    {
     "name": "stdout",
     "output_type": "stream",
     "text": [
      "/home/asuka/projects/her2bdl\n"
     ]
    }
   ],
   "source": [
    "## (Option A) Colab Setup\n",
    "# Connect to your `Google Drive` and install some dependencies.\n",
    "try:\n",
    "    raise NotImplementedError\n",
    "    from google.colab import drive\n",
    "    colab_ = True\n",
    "    drive.mount('/content/drive')\n",
    "    #!pip install git+https://github.com/sborquez/her2bdl\\\n",
    "## (Option B) Local Setup\n",
    "# Run locally.\n",
    "except:\n",
    "    colab_ = False\n",
    "    \n",
    "# Adhoc modules\n",
    "import os\n",
    "os.environ['TF_FORCE_GPU_ALLOW_GROWTH'] = 'true'\n",
    "os.environ['CUDA_DISABLE_PTX_JIT'] = \"1\"\n",
    "os.environ[\"WANDB_MODE\"] = 'dryrun'\n",
    "\n",
    "from extra import *\n",
    "\n",
    "# Her2BDL package\n",
    "#if is not installed run this line\n",
    "HER2BDL_HOME=os.environ.get(\"HER2BDL_HOME\")\n",
    "%cd $HER2BDL_HOME\n",
    "\n",
    "from her2bdl import *\n",
    "%matplotlib inline"
   ]
  },
  {
   "cell_type": "code",
   "execution_count": 3,
   "metadata": {},
   "outputs": [],
   "source": [
    "config_folder = Path(HER2BDL_HOME) / \"scripts\" / \"config\""
   ]
  },
  {
   "cell_type": "markdown",
   "metadata": {},
   "source": [
    "# Model Summary"
   ]
  },
  {
   "cell_type": "code",
   "execution_count": 4,
   "metadata": {},
   "outputs": [],
   "source": [
    "# Binary\n",
    "#config_file = config_folder / \"binary_classification/efficientnet_b0_binary_classifier.yaml\"\n",
    "#config_file = config_folder / \"aleatoric/efficientnet_b0_binary_classifier.yaml\"\n",
    "# HER2\n",
    "config_file = config_folder / \"baseline/hdxconv_c876_d02.yaml\"\n",
    "#config_file = config_folder / \"baseline/hdxconv_c876_d05.yaml\"\n",
    "#config_file = config_folder / \"baseline/hdxconv_c876_d08.yaml\"\n",
    "#config_file = config_folder / \"aleatoric/hdxconv_c876.yaml\""
   ]
  },
  {
   "cell_type": "code",
   "execution_count": 5,
   "metadata": {},
   "outputs": [
    {
     "name": "stderr",
     "output_type": "stream",
     "text": [
      "\u001b[34m\u001b[1mwandb\u001b[0m: W&B syncing is set to `offline` in this directory.  Run `wandb online` or set WANDB_MODE=online to enable cloud syncing.\n",
      "/home/asuka/projects/her2bdl/her2bdl/data/dataset.py:224: FutureWarning: The default value of regex will change from True to False in a future version.\n",
      "  dataset[col] = dataset[col].str.replace(*mapper)\n",
      "100%|██████████| 34/34 [00:33<00:00,  1.01it/s]\n",
      "/home/asuka/projects/her2bdl/her2bdl/data/dataset.py:224: FutureWarning: The default value of regex will change from True to False in a future version.\n",
      "  dataset[col] = dataset[col].str.replace(*mapper)\n",
      "100%|██████████| 11/11 [00:00<00:00, 21.97it/s]\n"
     ]
    }
   ],
   "source": [
    "config = load_config_file(config_file)\n",
    "run_dir = setup_experiment(config, mode=\"debug\")\n",
    "\n",
    "# Experiment paths and indentifiers\n",
    "experiments_folder = config[\"experiment\"][\"experiments_folder\"]\n",
    "experiment_name    = config[\"experiment\"][\"name\"]\n",
    "experiment_folder  = Path(experiments_folder) / experiment_name\n",
    "run_id             = config[\"experiment\"][\"run_id\"]\n",
    "\n",
    "# Training parameters\n",
    "epochs = config[\"training\"][\"epochs\"]\n",
    "batch_size  = config[\"training\"][\"batch_size\"]\n",
    "# Model architecture\n",
    "model_configuration = config[\"model\"]\n",
    "# Dataset\n",
    "data_configuration = config[\"data\"]\n",
    "generators, input_shape, num_classes, labels = setup_generators(\n",
    "    batch_size=batch_size, **data_configuration\n",
    ")"
   ]
  },
  {
   "cell_type": "markdown",
   "metadata": {},
   "source": [
    "# Model Summary\n",
    "\n",
    "Load and summary models."
   ]
  },
  {
   "cell_type": "code",
   "execution_count": 6,
   "metadata": {},
   "outputs": [],
   "source": [
    "# Epistemic\n",
    "epistemic_model = setup_model(input_shape, num_classes, **model_configuration, \n",
    "                              build=True, build_aleatoric=True)\n",
    "aleatoric_model = epistemic_model.get_aleatoric_model()\n"
   ]
  },
  {
   "cell_type": "markdown",
   "metadata": {},
   "source": [
    "## Epistemic Model"
   ]
  },
  {
   "cell_type": "code",
   "execution_count": 7,
   "metadata": {},
   "outputs": [
    {
     "name": "stdout",
     "output_type": "stream",
     "text": [
      "Model: \"hed_conv_classifier_mc_dropout\"\n",
      "_________________________________________________________________\n",
      "Layer (type)                 Output Shape              Param #   \n",
      "=================================================================\n",
      "encoder (Functional)         (None, 10816)             303352    \n",
      "_________________________________________________________________\n",
      "classifier (Functional)      (None, 4)                 2812356   \n",
      "_________________________________________________________________\n",
      "aleatoric_model (AleatoricMo multiple                  3115773   \n",
      "=================================================================\n",
      "Total params: 6,231,481\n",
      "Trainable params: 6,227,801\n",
      "Non-trainable params: 3,680\n",
      "_________________________________________________________________\n"
     ]
    }
   ],
   "source": [
    "epistemic_model.summary()"
   ]
  },
  {
   "cell_type": "markdown",
   "metadata": {},
   "source": [
    "### Encoder"
   ]
  },
  {
   "cell_type": "code",
   "execution_count": 8,
   "metadata": {},
   "outputs": [
    {
     "name": "stdout",
     "output_type": "stream",
     "text": [
      "Model: \"encoder\"\n",
      "_________________________________________________________________\n",
      "Layer (type)                 Output Shape              Param #   \n",
      "=================================================================\n",
      "input_1 (InputLayer)         [(None, 240, 240, 3)]     0         \n",
      "_________________________________________________________________\n",
      "stain_separator (Separate_HE (None, 240, 240, 3)       0         \n",
      "_________________________________________________________________\n",
      "scaler (Lambda)              (None, 240, 240, 3)       0         \n",
      "_________________________________________________________________\n",
      "stain_depthwiseConv2D (Depth (None, 118, 118, 24)      600       \n",
      "_________________________________________________________________\n",
      "depthwiseConv2D_batchnorm (B (None, 118, 118, 24)      96        \n",
      "_________________________________________________________________\n",
      "depthwiseConv2D_activation ( (None, 118, 118, 24)      0         \n",
      "_________________________________________________________________\n",
      "block0_conv2d_a (Conv2D)     (None, 118, 118, 32)      6912      \n",
      "_________________________________________________________________\n",
      "block0_batchnorm_a (BatchNor (None, 118, 118, 32)      128       \n",
      "_________________________________________________________________\n",
      "block0_activation_a (Activat (None, 118, 118, 32)      0         \n",
      "_________________________________________________________________\n",
      "block0_conv2d_b (Conv2D)     (None, 116, 116, 32)      9216      \n",
      "_________________________________________________________________\n",
      "block0_batchnorm_b (BatchNor (None, 116, 116, 32)      128       \n",
      "_________________________________________________________________\n",
      "block0_activation_b (Activat (None, 116, 116, 32)      0         \n",
      "_________________________________________________________________\n",
      "block0_maxpool (MaxPooling2D (None, 58, 58, 32)        0         \n",
      "_________________________________________________________________\n",
      "block1_conv2d_a (Conv2D)     (None, 58, 58, 64)        18432     \n",
      "_________________________________________________________________\n",
      "block1_batchnorm_a (BatchNor (None, 58, 58, 64)        256       \n",
      "_________________________________________________________________\n",
      "block1_activation_a (Activat (None, 58, 58, 64)        0         \n",
      "_________________________________________________________________\n",
      "block1_conv2d_b (Conv2D)     (None, 56, 56, 64)        36864     \n",
      "_________________________________________________________________\n",
      "block1_batchnorm_b (BatchNor (None, 56, 56, 64)        256       \n",
      "_________________________________________________________________\n",
      "block1_activation_b (Activat (None, 56, 56, 64)        0         \n",
      "_________________________________________________________________\n",
      "block1_maxpool (MaxPooling2D (None, 28, 28, 64)        0         \n",
      "_________________________________________________________________\n",
      "block2_conv2d_a (Conv2D)     (None, 28, 28, 128)       73728     \n",
      "_________________________________________________________________\n",
      "block2_batchnorm_a (BatchNor (None, 28, 28, 128)       512       \n",
      "_________________________________________________________________\n",
      "block2_activation_a (Activat (None, 28, 28, 128)       0         \n",
      "_________________________________________________________________\n",
      "block2_conv2d_b (Conv2D)     (None, 26, 26, 128)       147456    \n",
      "_________________________________________________________________\n",
      "block2_batchnorm_b (BatchNor (None, 26, 26, 128)       512       \n",
      "_________________________________________________________________\n",
      "block2_activation_b (Activat (None, 26, 26, 128)       0         \n",
      "_________________________________________________________________\n",
      "block2_maxpool (MaxPooling2D (None, 13, 13, 128)       0         \n",
      "_________________________________________________________________\n",
      "feature_reduction_conv2d_k1  (None, 13, 13, 64)        8256      \n",
      "_________________________________________________________________\n",
      "feature_reduction_activation (None, 13, 13, 64)        0         \n",
      "_________________________________________________________________\n",
      "head_flatten (Flatten)       (None, 10816)             0         \n",
      "=================================================================\n",
      "Total params: 303,352\n",
      "Trainable params: 302,408\n",
      "Non-trainable params: 944\n",
      "_________________________________________________________________\n"
     ]
    }
   ],
   "source": [
    "encoder = epistemic_model.layers[0]\n",
    "encoder.summary()"
   ]
  },
  {
   "cell_type": "markdown",
   "metadata": {},
   "source": [
    "### Classifier "
   ]
  },
  {
   "cell_type": "code",
   "execution_count": 9,
   "metadata": {},
   "outputs": [
    {
     "name": "stdout",
     "output_type": "stream",
     "text": [
      "Model: \"classifier\"\n",
      "_________________________________________________________________\n",
      "Layer (type)                 Output Shape              Param #   \n",
      "=================================================================\n",
      "input_2 (InputLayer)         [(None, 10816)]           0         \n",
      "_________________________________________________________________\n",
      "head_dense_1 (Dense)         (None, 256)               2769152   \n",
      "_________________________________________________________________\n",
      "head_batchnorm_1 (BatchNorma (None, 256)               1024      \n",
      "_________________________________________________________________\n",
      "head_activation_1 (Activatio (None, 256)               0         \n",
      "_________________________________________________________________\n",
      "head_mc_dropout_1 (Dropout)  (None, 256)               0         \n",
      "_________________________________________________________________\n",
      "head_dense_2 (Dense)         (None, 128)               32896     \n",
      "_________________________________________________________________\n",
      "head_batchnorm_2 (BatchNorma (None, 128)               512       \n",
      "_________________________________________________________________\n",
      "head_activation_2 (Activatio (None, 128)               0         \n",
      "_________________________________________________________________\n",
      "head_mc_dropout_2 (Dropout)  (None, 128)               0         \n",
      "_________________________________________________________________\n",
      "head_dense_3 (Dense)         (None, 64)                8256      \n",
      "_________________________________________________________________\n",
      "head_batchnorm_3 (BatchNorma (None, 64)                256       \n",
      "_________________________________________________________________\n",
      "head_activation_3 (Activatio (None, 64)                0         \n",
      "_________________________________________________________________\n",
      "head_mc_dropout_3 (Dropout)  (None, 64)                0         \n",
      "_________________________________________________________________\n",
      "head_classifier (Dense)      (None, 4)                 260       \n",
      "=================================================================\n",
      "Total params: 2,812,356\n",
      "Trainable params: 2,811,460\n",
      "Non-trainable params: 896\n",
      "_________________________________________________________________\n"
     ]
    }
   ],
   "source": [
    "classifier = epistemic_model.layers[1]\n",
    "classifier.summary()"
   ]
  },
  {
   "cell_type": "markdown",
   "metadata": {},
   "source": [
    "## Aleatoric Model"
   ]
  },
  {
   "cell_type": "code",
   "execution_count": 10,
   "metadata": {},
   "outputs": [
    {
     "name": "stdout",
     "output_type": "stream",
     "text": [
      "Model: \"aleatoric_model\"\n",
      "_________________________________________________________________\n",
      "Layer (type)                 Output Shape              Param #   \n",
      "=================================================================\n",
      "encoder (Functional)         (None, 10816)             303352    \n",
      "_________________________________________________________________\n",
      "aleatoric_classifier (Functi (None, 5)                 2812421   \n",
      "=================================================================\n",
      "Total params: 3,115,773\n",
      "Trainable params: 3,113,933\n",
      "Non-trainable params: 1,840\n",
      "_________________________________________________________________\n"
     ]
    }
   ],
   "source": [
    "aleatoric_model.summary()"
   ]
  },
  {
   "cell_type": "markdown",
   "metadata": {},
   "source": [
    "### Encoder"
   ]
  },
  {
   "cell_type": "code",
   "execution_count": 11,
   "metadata": {},
   "outputs": [
    {
     "name": "stdout",
     "output_type": "stream",
     "text": [
      "Model: \"encoder\"\n",
      "_________________________________________________________________\n",
      "Layer (type)                 Output Shape              Param #   \n",
      "=================================================================\n",
      "input_1 (InputLayer)         [(None, 240, 240, 3)]     0         \n",
      "_________________________________________________________________\n",
      "stain_separator (Separate_HE (None, 240, 240, 3)       0         \n",
      "_________________________________________________________________\n",
      "scaler (Lambda)              (None, 240, 240, 3)       0         \n",
      "_________________________________________________________________\n",
      "stain_depthwiseConv2D (Depth (None, 118, 118, 24)      600       \n",
      "_________________________________________________________________\n",
      "depthwiseConv2D_batchnorm (B (None, 118, 118, 24)      96        \n",
      "_________________________________________________________________\n",
      "depthwiseConv2D_activation ( (None, 118, 118, 24)      0         \n",
      "_________________________________________________________________\n",
      "block0_conv2d_a (Conv2D)     (None, 118, 118, 32)      6912      \n",
      "_________________________________________________________________\n",
      "block0_batchnorm_a (BatchNor (None, 118, 118, 32)      128       \n",
      "_________________________________________________________________\n",
      "block0_activation_a (Activat (None, 118, 118, 32)      0         \n",
      "_________________________________________________________________\n",
      "block0_conv2d_b (Conv2D)     (None, 116, 116, 32)      9216      \n",
      "_________________________________________________________________\n",
      "block0_batchnorm_b (BatchNor (None, 116, 116, 32)      128       \n",
      "_________________________________________________________________\n",
      "block0_activation_b (Activat (None, 116, 116, 32)      0         \n",
      "_________________________________________________________________\n",
      "block0_maxpool (MaxPooling2D (None, 58, 58, 32)        0         \n",
      "_________________________________________________________________\n",
      "block1_conv2d_a (Conv2D)     (None, 58, 58, 64)        18432     \n",
      "_________________________________________________________________\n",
      "block1_batchnorm_a (BatchNor (None, 58, 58, 64)        256       \n",
      "_________________________________________________________________\n",
      "block1_activation_a (Activat (None, 58, 58, 64)        0         \n",
      "_________________________________________________________________\n",
      "block1_conv2d_b (Conv2D)     (None, 56, 56, 64)        36864     \n",
      "_________________________________________________________________\n",
      "block1_batchnorm_b (BatchNor (None, 56, 56, 64)        256       \n",
      "_________________________________________________________________\n",
      "block1_activation_b (Activat (None, 56, 56, 64)        0         \n",
      "_________________________________________________________________\n",
      "block1_maxpool (MaxPooling2D (None, 28, 28, 64)        0         \n",
      "_________________________________________________________________\n",
      "block2_conv2d_a (Conv2D)     (None, 28, 28, 128)       73728     \n",
      "_________________________________________________________________\n",
      "block2_batchnorm_a (BatchNor (None, 28, 28, 128)       512       \n",
      "_________________________________________________________________\n",
      "block2_activation_a (Activat (None, 28, 28, 128)       0         \n",
      "_________________________________________________________________\n",
      "block2_conv2d_b (Conv2D)     (None, 26, 26, 128)       147456    \n",
      "_________________________________________________________________\n",
      "block2_batchnorm_b (BatchNor (None, 26, 26, 128)       512       \n",
      "_________________________________________________________________\n",
      "block2_activation_b (Activat (None, 26, 26, 128)       0         \n",
      "_________________________________________________________________\n",
      "block2_maxpool (MaxPooling2D (None, 13, 13, 128)       0         \n",
      "_________________________________________________________________\n",
      "feature_reduction_conv2d_k1  (None, 13, 13, 64)        8256      \n",
      "_________________________________________________________________\n",
      "feature_reduction_activation (None, 13, 13, 64)        0         \n",
      "_________________________________________________________________\n",
      "head_flatten (Flatten)       (None, 10816)             0         \n",
      "=================================================================\n",
      "Total params: 303,352\n",
      "Trainable params: 302,408\n",
      "Non-trainable params: 944\n",
      "_________________________________________________________________\n"
     ]
    }
   ],
   "source": [
    "encoder = aleatoric_model.layers[0]\n",
    "encoder.summary()"
   ]
  },
  {
   "cell_type": "markdown",
   "metadata": {},
   "source": [
    "### Aleatoric Classifier"
   ]
  },
  {
   "cell_type": "code",
   "execution_count": 12,
   "metadata": {},
   "outputs": [
    {
     "name": "stdout",
     "output_type": "stream",
     "text": [
      "Model: \"aleatoric_classifier\"\n",
      "__________________________________________________________________________________________________\n",
      "Layer (type)                    Output Shape         Param #     Connected to                     \n",
      "==================================================================================================\n",
      "input_2 (InputLayer)            [(None, 10816)]      0                                            \n",
      "__________________________________________________________________________________________________\n",
      "head_dense_1 (Dense)            (None, 256)          2769152     input_2[0][0]                    \n",
      "__________________________________________________________________________________________________\n",
      "head_batchnorm_1 (BatchNormaliz (None, 256)          1024        head_dense_1[0][0]               \n",
      "__________________________________________________________________________________________________\n",
      "head_activation_1 (Activation)  (None, 256)          0           head_batchnorm_1[0][0]           \n",
      "__________________________________________________________________________________________________\n",
      "head_mc_dropout_1 (Dropout)     (None, 256)          0           head_activation_1[0][0]          \n",
      "__________________________________________________________________________________________________\n",
      "head_dense_2 (Dense)            (None, 128)          32896       head_mc_dropout_1[0][0]          \n",
      "__________________________________________________________________________________________________\n",
      "head_batchnorm_2 (BatchNormaliz (None, 128)          512         head_dense_2[0][0]               \n",
      "__________________________________________________________________________________________________\n",
      "head_activation_2 (Activation)  (None, 128)          0           head_batchnorm_2[0][0]           \n",
      "__________________________________________________________________________________________________\n",
      "head_mc_dropout_2 (Dropout)     (None, 128)          0           head_activation_2[0][0]          \n",
      "__________________________________________________________________________________________________\n",
      "head_dense_3 (Dense)            (None, 64)           8256        head_mc_dropout_2[0][0]          \n",
      "__________________________________________________________________________________________________\n",
      "head_batchnorm_3 (BatchNormaliz (None, 64)           256         head_dense_3[0][0]               \n",
      "__________________________________________________________________________________________________\n",
      "head_activation_3 (Activation)  (None, 64)           0           head_batchnorm_3[0][0]           \n",
      "__________________________________________________________________________________________________\n",
      "head_mc_dropout_3 (Dropout)     (None, 64)           0           head_activation_3[0][0]          \n",
      "__________________________________________________________________________________________________\n",
      "head_logits_classifier (Dense)  (None, 4)            260         head_mc_dropout_3[0][0]          \n",
      "__________________________________________________________________________________________________\n",
      "variance (Dense)                (None, 1)            65          head_mc_dropout_3[0][0]          \n",
      "__________________________________________________________________________________________________\n",
      "logits_variance (Concatenate)   (None, 5)            0           head_logits_classifier[0][0]     \n",
      "                                                                 variance[0][0]                   \n",
      "==================================================================================================\n",
      "Total params: 2,812,421\n",
      "Trainable params: 2,811,525\n",
      "Non-trainable params: 896\n",
      "__________________________________________________________________________________________________\n"
     ]
    }
   ],
   "source": [
    "aleatoric_classifier  = aleatoric_model.layers[1]\n",
    "aleatoric_classifier.summary()"
   ]
  },
  {
   "cell_type": "markdown",
   "metadata": {},
   "source": [
    "# Forward Pass Times"
   ]
  },
  {
   "cell_type": "code",
   "execution_count": 5,
   "metadata": {},
   "outputs": [],
   "source": [
    "from extra import profiling"
   ]
  },
  {
   "cell_type": "code",
   "execution_count": 6,
   "metadata": {},
   "outputs": [
    {
     "name": "stdout",
     "output_type": "stream",
     "text": [
      "Model: \"efficient_net_mc_dropout\"\n",
      "_________________________________________________________________\n",
      "Layer (type)                 Output Shape              Param #   \n",
      "=================================================================\n",
      "encoder (Functional)         (None, 62720)             4049571   \n",
      "_________________________________________________________________\n",
      "classifier (Functional)      (None, 2)                 16099650  \n",
      "=================================================================\n",
      "Total params: 20,149,221\n",
      "Trainable params: 16,098,754\n",
      "Non-trainable params: 4,050,467\n",
      "_________________________________________________________________\n",
      "input shape (224, 224, 3)\n",
      "batch size: 16\n",
      "Sample size: 200\n",
      "MC dropout batch size: 32\n",
      "Classic Fordward Pass\n",
      "Model\n",
      "\tmean: 4.404709585200180299580097198486 [s]\n",
      "\tstd err: 13.530030795150183919872688420583 [s]\n",
      "Encoder\n",
      "\tmean: 0.191823579599440574572355444616 [s]\n",
      "\tstd err: 0.202334637659077665183815497585 [s]\n",
      "Classifier\n",
      "\tmean: 0.061652878198947290433462598003 [s]\n",
      "\tstd err: 0.015856618853730894413978091961 [s]\n",
      "\n",
      "Vanilla Predictive Distribution\n",
      "Model\n",
      "\tmean: 4.066107045200624270364642143250 [s]\n",
      "\tstd err: 0.054005599843971859030933302392 [s]\n",
      "Encoder\n",
      "\tmean: 4.153951399701327318325638771057 [s]\n",
      "\tstd err: 0.011131982966450442579242618990 [s]\n",
      "Classifier\n",
      "\tmean: 1.766216923899628366001479662373 [s]\n",
      "\tstd err: 0.014198993392279557826385349983 [s]\n",
      "\n",
      "2-Steps Predictive Distribution\n",
      "Model\n",
      "\tmean: 2.773541010198823819621338770958 [s]\n",
      "\tstd err: 0.026038241560857235817882937567 [s]\n",
      "Encoder\n",
      "\tmean: 0.126208415699511522500841920191 [s]\n",
      "\tstd err: 0.000886225332169058243290959975 [s]\n",
      "Classifier\n",
      "\tmean: 2.822816682499978746534452511696 [s]\n",
      "\tstd err: 0.007813072126691826199684776100 [s]\n"
     ]
    }
   ],
   "source": [
    "# EfficientNet\n",
    "# Load configuration and model\n",
    "config_file = config_folder / \"binary_classification/efficientnet_b0_binary_classifier.yaml\"\n",
    "config = load_config_file(config_file)\n",
    "## build model\n",
    "num_classes = config[\"data\"][\"num_classes\"]\n",
    "input_shape = (config[\"data\"][\"img_width\"],config[\"data\"][\"img_height\"], config[\"data\"][\"img_channels\"])\n",
    "model = setup_model(input_shape, num_classes, **(config[\"model\"]), build=True)    \n",
    "profiling(config, model)"
   ]
  },
  {
   "cell_type": "code",
   "execution_count": 7,
   "metadata": {},
   "outputs": [
    {
     "name": "stdout",
     "output_type": "stream",
     "text": [
      "Model: \"hed_conv_classifier_mc_dropout\"\n",
      "_________________________________________________________________\n",
      "Layer (type)                 Output Shape              Param #   \n",
      "=================================================================\n",
      "encoder (Functional)         (None, 10816)             303352    \n",
      "_________________________________________________________________\n",
      "classifier (Functional)      (None, 4)                 2812356   \n",
      "=================================================================\n",
      "Total params: 3,115,708\n",
      "Trainable params: 3,113,868\n",
      "Non-trainable params: 1,840\n",
      "_________________________________________________________________\n",
      "input shape (240, 240, 3)\n",
      "batch size: 64\n",
      "Sample size: 200\n",
      "MC dropout batch size: 64\n",
      "Classic Fordward Pass\n",
      "Model\n",
      "\tmean: 1.733722059900173917412757873535 [s]\n",
      "\tstd err: 4.790924828581483829736953339307 [s]\n",
      "Encoder\n",
      "\tmean: 0.228370267699938261918291004804 [s]\n",
      "\tstd err: 0.025977574770906359385991279964 [s]\n",
      "Classifier\n",
      "\tmean: 0.059881717499956722827736399495 [s]\n",
      "\tstd err: 0.017108786379268905303296932630 [s]\n",
      "\n",
      "Vanilla Predictive Distribution\n",
      "Model\n",
      "\tmean: 13.953310893700109573956069652922 [s]\n",
      "\tstd err: 0.044023207728451058118324112911 [s]\n",
      "Encoder\n",
      "\tmean: 14.347355437499937025336294027511 [s]\n",
      "\tstd err: 0.038061906318172543384203976302 [s]\n",
      "Classifier\n",
      "\tmean: 3.504148071599774816320405079750 [s]\n",
      "\tstd err: 0.025488312523616104415813410355 [s]\n",
      "\n",
      "2-Steps Predictive Distribution\n",
      "Model\n",
      "\tmean: 5.260466103699582340880169795128 [s]\n",
      "\tstd err: 0.008929996142876608922200887264 [s]\n",
      "Encoder\n",
      "\tmean: 0.229498455199063755571842193604 [s]\n",
      "\tstd err: 0.000803830283060403519464209854 [s]\n",
      "Classifier\n",
      "\tmean: 4.560010081200016607283487246605 [s]\n",
      "\tstd err: 0.068166351087287788135249400057 [s]\n"
     ]
    }
   ],
   "source": [
    "# HER2\n",
    "# Load configuration and model\n",
    "config_file = config_folder / \"baseline/hdxconv_c876_d02.yaml\"\n",
    "#config_file = config_folder / \"baseline/hdxconv_c876_d05.yaml\"\n",
    "#config_file = config_folder / \"baseline/hdxconv_c876_d08.yaml\"\n",
    "config = load_config_file(config_file)\n",
    "## build model\n",
    "num_classes = config[\"data\"][\"num_classes\"]\n",
    "input_shape = (config[\"data\"][\"img_width\"],config[\"data\"][\"img_height\"], config[\"data\"][\"img_channels\"])\n",
    "model = setup_model(input_shape, num_classes, **(config[\"model\"]), build=True)    \n",
    "profiling(config, model)"
   ]
  },
  {
   "cell_type": "code",
   "execution_count": null,
   "metadata": {},
   "outputs": [],
   "source": []
  }
 ],
 "metadata": {
  "kernelspec": {
   "display_name": "Python 3",
   "language": "python",
   "name": "python3"
  },
  "language_info": {
   "codemirror_mode": {
    "name": "ipython",
    "version": 3
   },
   "file_extension": ".py",
   "mimetype": "text/x-python",
   "name": "python",
   "nbconvert_exporter": "python",
   "pygments_lexer": "ipython3",
   "version": "3.8.8"
  }
 },
 "nbformat": 4,
 "nbformat_minor": 4
}
