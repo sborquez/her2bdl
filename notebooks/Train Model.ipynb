{
 "cells": [
  {
   "cell_type": "markdown",
   "metadata": {},
   "source": [
    "<h1 align=\"center\"><a href=\"https://github.com/sborquez/her2bdl\"> Her2BDL</a> - Her2 Bayesian Deep Learning</h1>\n",
    "\n",
    "<br>\n",
    "<center>\n",
    "<img src=\"images/utfsm.png\" width=\"50%\", align=\"center\"/>\n",
    "</center>\n",
    "<h2 align=\"center\">Train Model</h2>\n",
    "\n",
    "<center>\n",
    "<i> Notebook created by Sebastián Bórquez G. - <a href=\"mailto://sebstian.borquez.g@gmail.com\">sebastian.borquez.g@gmail.com</a> - her2bdl - August 2020.</i>\n",
    "</center>\n"
   ]
  },
  {
   "cell_type": "markdown",
   "metadata": {},
   "source": [
    "# Setup Notebook\n",
    "\n",
    "The first step is to sync this notebook with Google Drive, and change directory to gerumo repository."
   ]
  },
  {
   "cell_type": "code",
   "execution_count": null,
   "metadata": {},
   "outputs": [],
   "source": [
    "#!export HER2BDL_HOME=\"/home/sborquez/projects/her2bdl\"\n",
    "#!export HER2BDL_DATASETS=\"/home/sborquez/projects/her2bdl/datasets\"\n",
    "#!export HER2BDL_EXPERIMENTS=\"/home/sborquez/projects/her2bdl/experiments\"\n",
    "#!export HER2BDL_EXTRAS=\"/home/sborquez/projects/her2bdl-files\""
   ]
  },
  {
   "cell_type": "code",
   "execution_count": null,
   "metadata": {},
   "outputs": [],
   "source": [
    "## (Option A) Colab Setup\n",
    "# Connect to your `Google Drive` and install some dependencies.\n",
    "try:\n",
    "    raise NotImplementedError\n",
    "    from google.colab import drive\n",
    "    colab_ = True\n",
    "    drive.mount('/content/drive')\n",
    "    #!pip install git+https://github.com/sborquez/her2bdl\\\n",
    "## (Option B) Local Setup\n",
    "# Run locally.\n",
    "except:\n",
    "    colab_ = False\n",
    "    \n",
    "# Adhoc modules\n",
    "import os\n",
    "os.environ['TF_FORCE_GPU_ALLOW_GROWTH'] = 'true'\n",
    "os.environ['CUDA_DISABLE_PTX_JIT'] = \"1\"\n",
    "os.environ[\"WANDB_MODE\"] = 'dryrun'\n",
    "\n",
    "from extra import *\n",
    "\n",
    "# Her2BDL package\n",
    "#if is not installed run these two line\n",
    "HER2BDL_HOME=os.environ.get(\"HER2BDL_HOME\")\n",
    "%cd $HER2BDL_HOME\n",
    "\n",
    "from her2bdl import *\n",
    "%matplotlib inline"
   ]
  },
  {
   "cell_type": "code",
   "execution_count": null,
   "metadata": {},
   "outputs": [],
   "source": [
    "config_folder = Path(HER2BDL_HOME) / \"scripts\" / \"config\""
   ]
  },
  {
   "cell_type": "markdown",
   "metadata": {},
   "source": [
    "# Configuration"
   ]
  },
  {
   "cell_type": "code",
   "execution_count": null,
   "metadata": {},
   "outputs": [],
   "source": [
    "EPISTEMIC=False"
   ]
  },
  {
   "cell_type": "code",
   "execution_count": null,
   "metadata": {},
   "outputs": [],
   "source": [
    "# Binary\n",
    "#config_file = config_folder / \"binary_classification/efficientnet_b0_binary_classifier.yaml\"\n",
    "#config_file = config_folder / \"aleatoric/efficientnet_b0_binary_classifier.yaml\"\n",
    "\n",
    "# HER2\n",
    "#config_file = config_folder / \"baseline/hdxconv_c876_d02.yaml\"\n",
    "#config_file = config_folder / \"baseline/hdxconv_c876_d05.yaml\"\n",
    "#config_file = config_folder / \"baseline/hdxconv_c876_d08.yaml\"\n",
    "config_file = config_folder / \"aleatoric/hdxconv_c876.yaml\"\n"
   ]
  },
  {
   "cell_type": "markdown",
   "metadata": {},
   "source": [
    "# Model Training\n",
    "\n",
    "Load and fit models."
   ]
  },
  {
   "cell_type": "code",
   "execution_count": null,
   "metadata": {},
   "outputs": [],
   "source": [
    "config = load_config_file(config_file)\n",
    "run_dir = setup_experiment(config, mode=\"training\")\n",
    "\n",
    "# Experiment paths and indentifiers\n",
    "experiments_folder = config[\"experiment\"][\"experiments_folder\"]\n",
    "experiment_name    = config[\"experiment\"][\"name\"]\n",
    "experiment_folder  = Path(experiments_folder) / experiment_name\n",
    "run_id             = config[\"experiment\"][\"run_id\"]\n",
    "\n",
    "# Training parameters\n",
    "epochs = config[\"training\"][\"epochs\"]\n",
    "batch_size  = config[\"training\"][\"batch_size\"]\n",
    "# Dataset\n",
    "data_configuration = config[\"data\"]\n",
    "generators, input_shape, num_classes, labels = setup_generators(\n",
    "    batch_size=batch_size, **data_configuration\n",
    ")\n",
    "train_, val_ = generators\n",
    "(train_dataset, steps_per_epoch) = train_\n",
    "(val_dataset, validation_steps)  = val_\n",
    "# Model architecture\n",
    "model_configuration = config[\"model\"]"
   ]
  },
  {
   "cell_type": "code",
   "execution_count": null,
   "metadata": {},
   "outputs": [],
   "source": [
    "## Optimizer\n",
    "optimizer_name = config[\"training\"][\"optimizer\"][\"name\"]\n",
    "optimizer_learning_rate = float(config[\"training\"][\"optimizer\"][\"learning_rate\"]) # fix scientific notation parsed as str.\n",
    "optimizer_parameters = config[\"training\"][\"optimizer\"].get(\"parameters\", {})\n",
    "optimizer_parameters = optimizer_parameters or {}\n",
    "optimizer = OPTIMIZERS[optimizer_name](\n",
    "    learning_rate=optimizer_learning_rate, \n",
    "    **optimizer_parameters\n",
    ")\n",
    "## Class Weights\n",
    "class_weight = None\n",
    "class_weight_list = config[\"training\"].get(\"class_weight\", None)\n",
    "if class_weight_list is not None:\n",
    "    class_weight = {i: w for i, w in enumerate(class_weight_list)}\n",
    "## Callbacks\n",
    "enable_wandb = config[\"training\"][\"callbacks\"][\"enable_wandb\"]\n",
    "earlystop = config[\"training\"][\"callbacks\"][\"earlystop\"]\n",
    "experiment_tracker = config[\"training\"][\"callbacks\"][\"experiment_tracker\"]\n",
    "checkpoints = config[\"training\"][\"callbacks\"][\"checkpoints\"]\n",
    "\n",
    "## Epistemic Model\n",
    "if EPISTEMIC:\n",
    "    print(\"Training Epistemic Model\")\n",
    "    model = setup_model(input_shape, num_classes, **model_configuration)\n",
    "    loss_function    = config[\"training\"][\"loss\"][\"function\"]\n",
    "    loss_parameters  = config[\"training\"][\"loss\"][\"parameters\"]\n",
    "    loss_parameters  = loss_parameters or {}\n",
    "    loss = LOSS[loss_function](**loss_parameters)\n",
    "    uncertainty_type=\"epistemic\"\n",
    "## Aleatoric Model\n",
    "else:\n",
    "    print(\"Aleatoric Model\")\n",
    "    model_ = setup_model(input_shape, num_classes, **model_configuration, build=True)\n",
    "    model = model_.get_aleatoric_model()\n",
    "\n",
    "    ## Loss\n",
    "    loss = model.build_aleatoric_loss()\n",
    "    uncertainty_type = \"aleatoric\""
   ]
  },
  {
   "cell_type": "markdown",
   "metadata": {},
   "source": [
    "## Fit model"
   ]
  },
  {
   "cell_type": "code",
   "execution_count": null,
   "metadata": {},
   "outputs": [],
   "source": [
    "# Set Callback\n",
    "callbacks = setup_callbacks(\n",
    "     validation_data=val_dataset, \n",
    "     validation_steps=validation_steps,\n",
    "     model_name=experiment_name,\n",
    "     batch_size=batch_size,\n",
    "     enable_wandb=enable_wandb,\n",
    "     labels=labels,\n",
    "     earlystop=earlystop,\n",
    "     experiment_tracker=experiment_tracker,\n",
    "     checkpoints=checkpoints,\n",
    "     run_dir=run_dir,\n",
    "     uncertainty_type=uncertainty_type\n",
    ")\n",
    "\n",
    "# Train\n",
    "model.compile(\n",
    "    optimizer=optimizer,\n",
    "    loss=loss\n",
    ")\n",
    "history = model.fit(train_dataset, \n",
    "    verbose = 2,\n",
    "    steps_per_epoch=steps_per_epoch,\n",
    "    validation_data=val_dataset, \n",
    "    validation_steps=validation_steps,\n",
    "    epochs=epochs,\n",
    "    class_weight=class_weight,\n",
    "    callbacks=callbacks\n",
    ")"
   ]
  },
  {
   "cell_type": "markdown",
   "metadata": {},
   "source": [
    "## WandB Sync "
   ]
  },
  {
   "cell_type": "code",
   "execution_count": null,
   "metadata": {},
   "outputs": [],
   "source": [
    "wandb.finish()\n",
    "os.environ[\"WANDB_MODE\"] = \"\""
   ]
  },
  {
   "cell_type": "code",
   "execution_count": null,
   "metadata": {},
   "outputs": [],
   "source": [
    "reset_kernel()"
   ]
  },
  {
   "cell_type": "markdown",
   "metadata": {},
   "source": [
    "### "
   ]
  }
 ],
 "metadata": {
  "kernelspec": {
   "display_name": "Python 3",
   "language": "python",
   "name": "python3"
  },
  "language_info": {
   "codemirror_mode": {
    "name": "ipython",
    "version": 3
   },
   "file_extension": ".py",
   "mimetype": "text/x-python",
   "name": "python",
   "nbconvert_exporter": "python",
   "pygments_lexer": "ipython3",
   "version": "3.8.8"
  }
 },
 "nbformat": 4,
 "nbformat_minor": 4
}
