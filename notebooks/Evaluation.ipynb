{
 "cells": [
  {
   "cell_type": "markdown",
   "metadata": {},
   "source": [
    "<h1 align=\"center\"><a href=\"https://github.com/sborquez/her2bdl\"> Her2BDL</a> - Her2 Bayesian Deep Learning</h1>\n",
    "\n",
    "\n",
    "<br>\n",
    "<center>\n",
    "<img src=\"images/utfsm.png\" width=\"50%\", align=\"center\"/>\n",
    "</center>\n",
    "<h2 align=\"center\">Evaluation</h2>\n",
    "\n",
    "<center>\n",
    "<i> Notebook created by Sebastián Bórquez G. - <a href=\"mailto://sebstian.borquez.g@gmail.com\">sebastian.borquez.g@gmail.com</a> - utfsm - October 2020.</i>\n",
    "</center>\n"
   ]
  },
  {
   "cell_type": "markdown",
   "metadata": {},
   "source": [
    "# Setup Notebook\n",
    "\n",
    "The first step is to sync this notebook with Google Drive, and change directory to gerumo repository."
   ]
  },
  {
   "cell_type": "code",
   "execution_count": null,
   "metadata": {},
   "outputs": [],
   "source": [
    "#!export HER2BDL_HOME=\"/home/sborquez/projects/her2bdl\"\n",
    "#!export HER2BDL_DATASETS=\"/home/sborquez/projects/her2bdl/datasets\"\n",
    "#!export HER2BDL_EXPERIMENTS=\"/home/sborquez/projects/her2bdl/experiments\""
   ]
  },
  {
   "cell_type": "code",
   "execution_count": null,
   "metadata": {},
   "outputs": [],
   "source": [
    "## (Option A) Colab Setup\n",
    "# Connect to your `Google Drive` and install some dependencies.\n",
    "try:\n",
    "    raise NotImplementedError\n",
    "    from google.colab import drive\n",
    "    colab_ = True\n",
    "    drive.mount('/content/drive')\n",
    "    #!pip install git+https://github.com/sborquez/her2bdl\\\n",
    "## (Option B) Local Setup\n",
    "# Run locally.\n",
    "except:\n",
    "    colab_ = False\n",
    "    \n",
    "# Adhoc modules\n",
    "import os\n",
    "os.environ['TF_FORCE_GPU_ALLOW_GROWTH'] = 'true'\n",
    "os.environ['CUDA_DISABLE_PTX_JIT'] = \"1\"\n",
    "os.environ[\"WANDB_MODE\"] = 'dryrun'\n",
    "\n",
    "from extra import *\n",
    "\n",
    "# Her2BDL package\n",
    "#if is not installed run these two line\n",
    "HER2BDL_HOME=os.environ.get(\"HER2BDL_HOME\")\n",
    "%cd $HER2BDL_HOME\n",
    "\n",
    "from her2bdl import *\n",
    "%matplotlib inline"
   ]
  },
  {
   "cell_type": "code",
   "execution_count": null,
   "metadata": {},
   "outputs": [],
   "source": [
    "config_folder = Path(os.environ.get(\"HER2BDL_EXPERIMENTS\")) / \"config\""
   ]
  },
  {
   "cell_type": "markdown",
   "metadata": {},
   "source": [
    "# Configuration"
   ]
  },
  {
   "cell_type": "code",
   "execution_count": null,
   "metadata": {},
   "outputs": [],
   "source": [
    "# Binary\n",
    "\n",
    "## Aleatoric\n",
    "#config_file = config_folder / \"aleatoric_evaluation/efficientnet_b0_binary_classifier.yaml\"\n",
    "\n",
    "## Classification & Epistemic\n",
    "#config_file = config_folder / \"binary_classification_evaluation/efficientnet_b0_binary_classifier.yaml\"\n",
    "\n",
    "# HER2\n",
    "\n",
    "## Aleatoric\n",
    "#config_file = config_folder / \"aleatoric_evaluation/hdxconv_c876.yaml\"\n",
    "#config_file = config_folder / \"aleatoric_evaluation/hedconv_c876.yaml\"\n",
    "#config_file = config_folder / \"aleatoric_evaluation/rgbconv_c876.yaml\"\n",
    "\n",
    "## Classification & Epistemic\n",
    "#config_file = config_folder / \"baseline_evaluation_warwick/hdxconv_c876_d02.yaml\"\n",
    "#config_file = config_folder / \"baseline_evaluation_warwick/hdxconv_c876_d05.yaml\"\n",
    "#config_file = config_folder / \"baseline_evaluation_warwick/hdxconv_c876_d08.yaml\"\n",
    "\n",
    "## Aggregation & Epistemic\n",
    "\n",
    "#config_file = config_folder / \"baseline_evaluation_warwick/hdxconv_c876_d02_base.yaml\"\n",
    "#config_file = config_folder / \"baseline_evaluation_warwick/hdxconv_c876_d05_base.yaml\"\n",
    "#config_file = config_folder / \"baseline_evaluation_warwick/hdxconv_c876_d08_base.yaml\"\n",
    "\n",
    "#config_file = config_folder / \"baseline_evaluation_warwick/hdxconv_c876_d02_threshold_Hh.yaml\"\n",
    "#config_file = config_folder / \"baseline_evaluation_warwick/hdxconv_c876_d02_threshold_Hl.yaml\"\n",
    "#config_file = config_folder / \"baseline_evaluation_warwick/hdxconv_c876_d02_threshold_Ih.yaml\"\n",
    "#config_file = config_folder / \"baseline_evaluation_warwick/hdxconv_c876_d02_threshold_Il.yaml\"\n",
    "#config_file = config_folder / \"baseline_evaluation_warwick/hdxconv_c876_d02_mixture_H.yaml\"\n",
    "#config_file = config_folder / \"baseline_evaluation_warwick/hdxconv_c876_d02_mixture_I.yaml\"\n",
    "\n",
    "#config_file = config_folder / \"baseline_evaluation_warwick/hdxconv_c876_d05_threshold_Hl.yaml\"\n",
    "#config_file = config_folder / \"baseline_evaluation_warwick/hdxconv_c876_d05_threshold_Hh.yaml\"\n",
    "#config_file = config_folder / \"baseline_evaluation_warwick/hdxconv_c876_d05_threshold_Il.yaml\"\n",
    "#config_file = config_folder / \"baseline_evaluation_warwick/hdxconv_c876_d05_threshold_Ih.yaml\"\n",
    "#config_file = config_folder / \"baseline_evaluation_warwick/hdxconv_c876_d05_mixture_H.yaml\"\n",
    "#config_file = config_folder / \"baseline_evaluation_warwick/hdxconv_c876_d05_mixture_I.yaml\"\n",
    "\n",
    "#config_file = config_folder / \"baseline_evaluation_warwick/hdxconv_c876_d08_threshold_Hl.yaml\"\n",
    "config_file = config_folder / \"baseline_evaluation_warwick/hdxconv_c876_d08_threshold_Hh.yaml\"\n",
    "#config_file = config_folder / \"baseline_evaluation_warwick/hdxconv_c876_d08_threshold_Ih.yaml\"\n",
    "#config_file = config_folder / \"baseline_evaluation_warwick/hdxconv_c876_d08_threshold_Il.yaml\"\n",
    "#config_file = config_folder / \"baseline_evaluation_warwick/hdxconv_c876_d08_mixture_H.yaml\"\n",
    "#config_file = config_folder / \"baseline_evaluation_warwick/hdxconv_c876_d08_mixture_I.yaml\""
   ]
  },
  {
   "cell_type": "markdown",
   "metadata": {},
   "source": [
    "# Model Evaluation\n",
    "\n",
    "Load and predict with your trained models. Evaluate and plot metrics."
   ]
  },
  {
   "cell_type": "code",
   "execution_count": null,
   "metadata": {},
   "outputs": [],
   "source": [
    "config = load_config_file(config_file)\n",
    "run_dir = setup_experiment(config, mode=\"evaluation\")\n",
    "\n",
    "# Experiment paths and indentifiers\n",
    "experiments_folder = config[\"experiment\"][\"experiments_folder\"]\n",
    "experiment_name    = config[\"experiment\"][\"name\"]\n",
    "experiment_folder  = Path(experiments_folder) / experiment_name\n",
    "run_id             = config[\"experiment\"][\"run_id\"]\n",
    "\n",
    "# Evaluation parameters\n",
    "batch_size  = config[\"evaluation\"][\"batch_size\"]\n",
    "evaluate_classification = config[\"evaluation\"][\"evaluate_classification\"]\n",
    "evaluate_aleatoric_uncertainty = config[\"evaluation\"][\"evaluate_aleatoric_uncertainty\"]\n",
    "evaluate_aggregation = config[\"evaluation\"][\"evaluate_aggregation\"]\n",
    "# Dataset\n",
    "data_configuration = config[\"data\"]\n",
    "test_, input_shape, num_classes, labels = setup_generators(\n",
    "    batch_size=batch_size, test_dataset=True,  **data_configuration\n",
    ")\n",
    "(test_dataset, steps_per_epoch) = test_\n",
    "# Model architecture\n",
    "model_configuration = config[\"model\"]\n",
    "model = setup_model(input_shape, num_classes, **model_configuration)\n",
    "\n",
    "results=None"
   ]
  },
  {
   "cell_type": "code",
   "execution_count": null,
   "metadata": {},
   "outputs": [],
   "source": [
    "# Evaluation Logguer\n",
    "logger_configuration = config[\"evaluation\"][\"experiment_logger\"]\n",
    "logger = setup_evaluation_logger(\n",
    "    model_name=experiment_name,\n",
    "    labels=labels,\n",
    "    run_dir=run_dir,\n",
    "    **logger_configuration\n",
    ")"
   ]
  },
  {
   "cell_type": "markdown",
   "metadata": {},
   "source": [
    "## Evaluate Classification"
   ]
  },
  {
   "cell_type": "code",
   "execution_count": null,
   "metadata": {},
   "outputs": [],
   "source": [
    "logger_configuration['classification_metrics']"
   ]
  },
  {
   "cell_type": "code",
   "execution_count": null,
   "metadata": {},
   "outputs": [],
   "source": [
    "if config[\"evaluation\"][\"evaluate_classification\"]:\n",
    "    results = model.predict_with_epistemic_uncertainty(test_dataset, include_data=True)\n",
    "    data, predictions_results, uncertainty_results = results\n",
    "else:\n",
    "    print(\"Skipped\")"
   ]
  },
  {
   "cell_type": "code",
   "execution_count": null,
   "metadata": {},
   "outputs": [],
   "source": [
    "if config[\"evaluation\"][\"evaluate_classification\"]:\n",
    "    logger.log_classification_metrics(data, predictions_results, uncertainty_results)"
   ]
  },
  {
   "cell_type": "markdown",
   "metadata": {},
   "source": [
    "## Evaluate Aleatoric Model"
   ]
  },
  {
   "cell_type": "code",
   "execution_count": null,
   "metadata": {},
   "outputs": [],
   "source": [
    "logger_configuration['aleatoric_uncertainty']"
   ]
  },
  {
   "cell_type": "code",
   "execution_count": null,
   "metadata": {},
   "outputs": [],
   "source": [
    "if config[\"evaluation\"][\"evaluate_aleatoric_uncertainty\"]:\n",
    "    aleatoric_model = model.get_aleatoric_model()\n",
    "    results_aleatoric = aleatoric_model.predict_with_aleatoric_uncertainty(test_dataset, include_data=True)\n",
    "    aleatoric_data, aleatoric_predictions_results, aleatoric_uncertainty_results = results_aleatoric\n",
    "else:\n",
    "    print(\"Skipped\")\n"
   ]
  },
  {
   "cell_type": "code",
   "execution_count": null,
   "metadata": {},
   "outputs": [],
   "source": [
    "if config[\"evaluation\"][\"evaluate_aleatoric_uncertainty\"]:\n",
    "    logger.log_aleatoric_uncertainty(aleatoric_data, aleatoric_predictions_results, aleatoric_uncertainty_results)"
   ]
  },
  {
   "cell_type": "markdown",
   "metadata": {},
   "source": [
    "## Evaluate Aggregation "
   ]
  },
  {
   "cell_type": "code",
   "execution_count": null,
   "metadata": {},
   "outputs": [],
   "source": [
    "logger_configuration['aggregation_metrics']"
   ]
  },
  {
   "cell_type": "code",
   "execution_count": null,
   "metadata": {},
   "outputs": [],
   "source": [
    "if config[\"evaluation\"][\"evaluate_aggregation\"]:\n",
    "    aggregator_configuration = config[\"aggregation\"]\n",
    "    aggregator = setup_aggregator(**aggregator_configuration)\n",
    "else:\n",
    "    print(\"Skipped\")"
   ]
  },
  {
   "cell_type": "code",
   "execution_count": null,
   "metadata": {},
   "outputs": [],
   "source": [
    "if config[\"evaluation\"][\"evaluate_aggregation\"]:\n",
    "    if results is None:\n",
    "        results = model.predict_with_epistemic_uncertainty(test_dataset, include_data=True)\n",
    "    data, predictions_results, uncertainty_results = results\n",
    "    agg = aggregator.predict_with_aggregation(test_dataset, predictions_results, uncertainty_results, include_data=True, verbose=1)\n",
    "    aggregated_data, aggregated_predictions, aggregated_uncertainty = agg\n",
    "else:\n",
    "    print(\"Skipped\")\n",
    "gc.collect()"
   ]
  },
  {
   "cell_type": "code",
   "execution_count": null,
   "metadata": {},
   "outputs": [],
   "source": [
    "if config[\"evaluation\"][\"evaluate_aggregation\"]:\n",
    "    logger.log_aggregation_metrics(test_dataset, data, predictions_results, uncertainty_results, \n",
    "                                   aggregated_data, aggregated_predictions, aggregated_uncertainty\n",
    "        )"
   ]
  },
  {
   "cell_type": "markdown",
   "metadata": {},
   "source": [
    "## WandB Sync"
   ]
  },
  {
   "cell_type": "code",
   "execution_count": null,
   "metadata": {},
   "outputs": [],
   "source": [
    "wandb.finish()\n",
    "#os.environ[\"WANDB_MODE\"] = \"\""
   ]
  },
  {
   "cell_type": "code",
   "execution_count": null,
   "metadata": {
    "scrolled": true
   },
   "outputs": [],
   "source": [
    "!wandb sync "
   ]
  },
  {
   "cell_type": "code",
   "execution_count": null,
   "metadata": {},
   "outputs": [],
   "source": [
    "reset_kernel()"
   ]
  }
 ],
 "metadata": {
  "kernelspec": {
   "display_name": "Python 3",
   "language": "python",
   "name": "python3"
  },
  "language_info": {
   "codemirror_mode": {
    "name": "ipython",
    "version": 3
   },
   "file_extension": ".py",
   "mimetype": "text/x-python",
   "name": "python",
   "nbconvert_exporter": "python",
   "pygments_lexer": "ipython3",
   "version": "3.8.8"
  }
 },
 "nbformat": 4,
 "nbformat_minor": 4
}
